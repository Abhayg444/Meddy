{
  "cells": [
    {
      "cell_type": "markdown",
      "metadata": {
        "colab_type": "text",
        "id": "view-in-github"
      },
      "source": [
        "<a href=\"https://colab.research.google.com/github/Abhayg444/Meddy/blob/main/Model_Predictor.ipynb\" target=\"_parent\"><img src=\"https://colab.research.google.com/assets/colab-badge.svg\" alt=\"Open In Colab\"/></a>"
      ]
    },
    {
      "cell_type": "code",
      "execution_count": null,
      "metadata": {
        "_cell_guid": "b1076dfc-b9ad-4769-8c92-a6c4dae69d19",
        "_uuid": "8f2839f25d086af736a60e9eeb907d3b93b6e0e5",
        "execution": {
          "iopub.execute_input": "2023-06-03T17:59:30.227400Z",
          "iopub.status.busy": "2023-06-03T17:59:30.226131Z",
          "iopub.status.idle": "2023-06-03T17:59:30.245828Z",
          "shell.execute_reply": "2023-06-03T17:59:30.244157Z",
          "shell.execute_reply.started": "2023-06-03T17:59:30.227349Z"
        },
        "id": "U2HyQ-yhZZcz",
        "trusted": true
      },
      "outputs": [],
      "source": [
        "import numpy as np\n",
        "import pandas as pd"
      ]
    },
    {
      "cell_type": "code",
      "execution_count": null,
      "metadata": {
        "execution": {
          "iopub.execute_input": "2023-06-03T17:59:30.248741Z",
          "iopub.status.busy": "2023-06-03T17:59:30.248236Z",
          "iopub.status.idle": "2023-06-03T17:59:31.727778Z",
          "shell.execute_reply": "2023-06-03T17:59:31.726805Z",
          "shell.execute_reply.started": "2023-06-03T17:59:30.248705Z"
        },
        "id": "BxyvevzvZZc1",
        "trusted": true
      },
      "outputs": [],
      "source": [
        "import matplotlib.pyplot as plt\n",
        "import seaborn as sns\n",
        "from sklearn.preprocessing import LabelEncoder\n",
        "from sklearn.model_selection import train_test_split ,cross_val_score\n",
        "from sklearn.svm import SVC\n",
        "from sklearn.naive_bayes import GaussianNB\n",
        "from sklearn.ensemble import RandomForestClassifier\n",
        "from sklearn.metrics import classification_report, accuracy_score, confusion_matrix\n",
        "\n",
        "%matplotlib inline"
      ]
    },
    {
      "cell_type": "code",
      "execution_count": null,
      "metadata": {
        "execution": {
          "iopub.execute_input": "2023-06-03T17:59:31.730136Z",
          "iopub.status.busy": "2023-06-03T17:59:31.729642Z",
          "iopub.status.idle": "2023-06-03T17:59:31.901759Z",
          "shell.execute_reply": "2023-06-03T17:59:31.900345Z",
          "shell.execute_reply.started": "2023-06-03T17:59:31.730090Z"
        },
        "id": "OiinENPWZZc2",
        "trusted": true
      },
      "outputs": [],
      "source": [
        "train_data = pd.read_csv(\"Training.csv\").dropna(axis = 1)\n",
        "test_data =pd.read_csv(\"Testing.csv\").dropna(axis = 1)"
      ]
    },
    {
      "cell_type": "code",
      "execution_count": null,
      "metadata": {
        "execution": {
          "iopub.execute_input": "2023-06-03T17:59:31.906206Z",
          "iopub.status.busy": "2023-06-03T17:59:31.905598Z",
          "iopub.status.idle": "2023-06-03T17:59:31.958851Z",
          "shell.execute_reply": "2023-06-03T17:59:31.957378Z",
          "shell.execute_reply.started": "2023-06-03T17:59:31.906143Z"
        },
        "id": "F-TZEbamZZc3",
        "trusted": true
      },
      "outputs": [],
      "source": [
        "train_data.head()"
      ]
    },
    {
      "cell_type": "code",
      "execution_count": null,
      "metadata": {
        "execution": {
          "iopub.execute_input": "2023-06-03T17:59:31.961569Z",
          "iopub.status.busy": "2023-06-03T17:59:31.961013Z",
          "iopub.status.idle": "2023-06-03T17:59:31.990598Z",
          "shell.execute_reply": "2023-06-03T17:59:31.989145Z",
          "shell.execute_reply.started": "2023-06-03T17:59:31.961524Z"
        },
        "id": "VBxK_o-iZZc3",
        "trusted": true
      },
      "outputs": [],
      "source": [
        "test_data.head()"
      ]
    },
    {
      "cell_type": "code",
      "execution_count": null,
      "metadata": {
        "execution": {
          "iopub.execute_input": "2023-06-03T17:59:31.993515Z",
          "iopub.status.busy": "2023-06-03T17:59:31.992990Z",
          "iopub.status.idle": "2023-06-03T17:59:32.007723Z",
          "shell.execute_reply": "2023-06-03T17:59:32.006131Z",
          "shell.execute_reply.started": "2023-06-03T17:59:31.993469Z"
        },
        "id": "AaZpWQfAZZc3",
        "trusted": true
      },
      "outputs": [],
      "source": [
        "train_data.shape"
      ]
    },
    {
      "cell_type": "code",
      "execution_count": null,
      "metadata": {
        "execution": {
          "iopub.execute_input": "2023-06-03T17:59:32.012132Z",
          "iopub.status.busy": "2023-06-03T17:59:32.011635Z",
          "iopub.status.idle": "2023-06-03T17:59:32.046086Z",
          "shell.execute_reply": "2023-06-03T17:59:32.044802Z",
          "shell.execute_reply.started": "2023-06-03T17:59:32.012097Z"
        },
        "id": "H-DPzXQ-ZZc4",
        "trusted": true
      },
      "outputs": [],
      "source": [
        "train_data.info()"
      ]
    },
    {
      "cell_type": "code",
      "execution_count": null,
      "metadata": {
        "execution": {
          "iopub.execute_input": "2023-06-03T17:59:32.048537Z",
          "iopub.status.busy": "2023-06-03T17:59:32.047894Z",
          "iopub.status.idle": "2023-06-03T17:59:32.432549Z",
          "shell.execute_reply": "2023-06-03T17:59:32.431171Z",
          "shell.execute_reply.started": "2023-06-03T17:59:32.048485Z"
        },
        "id": "nS4FsEXVZZc4",
        "trusted": true
      },
      "outputs": [],
      "source": [
        "train_data.describe()"
      ]
    },
    {
      "cell_type": "code",
      "execution_count": null,
      "metadata": {
        "execution": {
          "iopub.execute_input": "2023-06-03T17:59:32.435606Z",
          "iopub.status.busy": "2023-06-03T17:59:32.435022Z",
          "iopub.status.idle": "2023-06-03T17:59:33.385890Z",
          "shell.execute_reply": "2023-06-03T17:59:33.384466Z",
          "shell.execute_reply.started": "2023-06-03T17:59:32.435557Z"
        },
        "id": "Xz7CeUkIZZc4",
        "trusted": true
      },
      "outputs": [],
      "source": [
        "# checking weather the dataset is balanced or not\n",
        "disease_counts = train_data[\"prognosis\"].value_counts()\n",
        "temp_df = pd.DataFrame({\n",
        "    \"Disease\":disease_counts.index,\n",
        "    \"Counts\": disease_counts.values\n",
        "})\n",
        "\n",
        "plt.figure(figsize = (18,8))\n",
        "sns.barplot(x =\"Disease\",y=\"Counts\",data = temp_df)\n",
        "plt.xticks(rotation=90)\n",
        "plt.show()\n"
      ]
    },
    {
      "cell_type": "code",
      "execution_count": null,
      "metadata": {
        "execution": {
          "iopub.execute_input": "2023-06-03T17:59:33.392252Z",
          "iopub.status.busy": "2023-06-03T17:59:33.391870Z",
          "iopub.status.idle": "2023-06-03T17:59:33.402559Z",
          "shell.execute_reply": "2023-06-03T17:59:33.399455Z",
          "shell.execute_reply.started": "2023-06-03T17:59:33.392221Z"
        },
        "id": "utO3J0GoZZc5",
        "trusted": true
      },
      "outputs": [],
      "source": [
        "# Encoding the target value into numerical value\n",
        "encoder = LabelEncoder()\n",
        "train_data[\"prognosis\"] =encoder.fit_transform(train_data[\"prognosis\"])"
      ]
    },
    {
      "cell_type": "code",
      "execution_count": null,
      "metadata": {
        "execution": {
          "iopub.execute_input": "2023-06-03T17:59:33.405186Z",
          "iopub.status.busy": "2023-06-03T17:59:33.404447Z",
          "iopub.status.idle": "2023-06-03T17:59:33.442305Z",
          "shell.execute_reply": "2023-06-03T17:59:33.441004Z",
          "shell.execute_reply.started": "2023-06-03T17:59:33.405144Z"
        },
        "id": "1wfi5W0PZZc7",
        "trusted": true
      },
      "outputs": [],
      "source": [
        "X = train_data.iloc[:,:-1]\n",
        "y = train_data.iloc[:,-1]\n",
        "X_train, X_test, y_train, y_test = train_test_split(X,y,test_size=0.2,random_state =24)"
      ]
    },
    {
      "cell_type": "code",
      "execution_count": null,
      "metadata": {
        "execution": {
          "iopub.execute_input": "2023-06-03T17:59:33.444293Z",
          "iopub.status.busy": "2023-06-03T17:59:33.443890Z",
          "iopub.status.idle": "2023-06-03T17:59:33.453944Z",
          "shell.execute_reply": "2023-06-03T17:59:33.453112Z",
          "shell.execute_reply.started": "2023-06-03T17:59:33.444263Z"
        },
        "id": "9c4wApMeZZc8",
        "trusted": true
      },
      "outputs": [],
      "source": [
        "X_train.shape,y_train.shape"
      ]
    },
    {
      "cell_type": "code",
      "execution_count": null,
      "metadata": {
        "execution": {
          "iopub.execute_input": "2023-06-03T17:59:33.456201Z",
          "iopub.status.busy": "2023-06-03T17:59:33.455746Z",
          "iopub.status.idle": "2023-06-03T17:59:33.469154Z",
          "shell.execute_reply": "2023-06-03T17:59:33.468140Z",
          "shell.execute_reply.started": "2023-06-03T17:59:33.456163Z"
        },
        "id": "_YoEV52AZZc8",
        "trusted": true
      },
      "outputs": [],
      "source": [
        "X_test.shape,y_test.shape"
      ]
    },
    {
      "cell_type": "code",
      "execution_count": null,
      "metadata": {
        "execution": {
          "iopub.execute_input": "2023-06-03T17:59:33.471237Z",
          "iopub.status.busy": "2023-06-03T17:59:33.470597Z",
          "iopub.status.idle": "2023-06-03T17:59:40.799547Z",
          "shell.execute_reply": "2023-06-03T17:59:40.798434Z",
          "shell.execute_reply.started": "2023-06-03T17:59:33.471205Z"
        },
        "id": "G2w99lKDZZc9",
        "trusted": true
      },
      "outputs": [],
      "source": [
        "#Defining scoring metric for k-fold cross validation\n",
        "def cv_scoring(estimator,X,y):\n",
        "    return accuracy_score(y,estimator.predict(X))\n",
        "\n",
        "\n",
        "models = {\n",
        "    \"SVC\": SVC(),\n",
        "    \"Gaussian NB\": GaussianNB(),\n",
        "    \"Random Forest\": RandomForestClassifier(random_state=18)\n",
        "}\n",
        "\n",
        "# producing cross validation score for models\n",
        "\n",
        "for model_name in models:\n",
        "    model =models[model_name]\n",
        "    scores = cross_val_score(model,X,y,cv=10,\n",
        "                            n_jobs = -1,\n",
        "                            scoring = cv_scoring)\n",
        "    print(\"==\"*30)\n",
        "    print(model_name)\n",
        "    print(f\"Scores: {scores}\")\n",
        "    print(f\"Mean Score: {np.mean(scores)}\")"
      ]
    },
    {
      "cell_type": "markdown",
      "metadata": {
        "id": "c_6NaUEDZZc-"
      },
      "source": [
        "# Training and Testing Models\n"
      ]
    },
    {
      "cell_type": "code",
      "execution_count": null,
      "metadata": {
        "execution": {
          "iopub.execute_input": "2023-06-03T17:59:40.801978Z",
          "iopub.status.busy": "2023-06-03T17:59:40.801610Z",
          "iopub.status.idle": "2023-06-03T17:59:45.656145Z",
          "shell.execute_reply": "2023-06-03T17:59:45.654633Z",
          "shell.execute_reply.started": "2023-06-03T17:59:40.801942Z"
        },
        "id": "L-aH81r8ZZc-",
        "trusted": true
      },
      "outputs": [],
      "source": [
        "# Training and testing SVM Classifier\n",
        "svm_model = SVC()\n",
        "svm_model.fit(X_train,y_train)\n",
        "preds = svm_model.predict(X_test)\n",
        "\n",
        "print(f\"Accuracy on train data by SVM Classifier\\\n",
        ": {accuracy_score(y_train, svm_model.predict(X_train))*100}\")\n",
        "\n",
        "print(f\"Accuracy on test data by SVM Classifier\\\n",
        ": {accuracy_score(y_test, preds)*100}\")\n",
        "cf_matrix = confusion_matrix(y_test, preds)\n",
        "plt.figure(figsize=(12,8))\n",
        "sns.heatmap(cf_matrix, annot=True)\n",
        "plt.title(\"Confusion Matrix for SVM Classifier on Test Data\")\n",
        "plt.show()\n"
      ]
    },
    {
      "cell_type": "code",
      "execution_count": null,
      "metadata": {
        "execution": {
          "iopub.execute_input": "2023-06-03T17:59:45.657708Z",
          "iopub.status.busy": "2023-06-03T17:59:45.657387Z",
          "iopub.status.idle": "2023-06-03T17:59:50.038119Z",
          "shell.execute_reply": "2023-06-03T17:59:50.036500Z",
          "shell.execute_reply.started": "2023-06-03T17:59:45.657679Z"
        },
        "id": "XMQKwpSQZZc-",
        "trusted": true
      },
      "outputs": [],
      "source": [
        "\n",
        "# Training and testing Naive Bayes Classifier\n",
        "nb_model = GaussianNB()\n",
        "nb_model.fit(X_train, y_train)\n",
        "preds = nb_model.predict(X_test)\n",
        "print(f\"Accuracy on train data by Naive Bayes Classifier\\\n",
        ": {accuracy_score(y_train, nb_model.predict(X_train))*100}\")\n",
        "\n",
        "print(f\"Accuracy on test data by Naive Bayes Classifier\\\n",
        ": {accuracy_score(y_test, preds)*100}\")\n",
        "cf_matrix = confusion_matrix(y_test, preds)\n",
        "plt.figure(figsize=(12,8))\n",
        "sns.heatmap(cf_matrix, annot=True)\n",
        "plt.title(\"Confusion Matrix for Naive Bayes Classifier on Test Data\")\n",
        "plt.show()\n"
      ]
    },
    {
      "cell_type": "code",
      "execution_count": null,
      "metadata": {
        "execution": {
          "iopub.execute_input": "2023-06-03T17:59:50.040586Z",
          "iopub.status.busy": "2023-06-03T17:59:50.040121Z",
          "iopub.status.idle": "2023-06-03T17:59:54.985037Z",
          "shell.execute_reply": "2023-06-03T17:59:54.983841Z",
          "shell.execute_reply.started": "2023-06-03T17:59:50.040547Z"
        },
        "id": "Bu7jWNdnZZc_",
        "trusted": true
      },
      "outputs": [],
      "source": [
        "# Training and testing Random Forest Classifier\n",
        "rf_model = RandomForestClassifier(random_state=18)\n",
        "rf_model.fit(X_train, y_train)\n",
        "preds = rf_model.predict(X_test)\n",
        "print(f\"Accuracy on train data by Random Forest Classifier\\\n",
        ": {accuracy_score(y_train, rf_model.predict(X_train))*100}\")\n",
        "\n",
        "print(f\"Accuracy on test data by Random Forest Classifier\\\n",
        ": {accuracy_score(y_test, preds)*100}\")\n",
        "\n",
        "cf_matrix = confusion_matrix(y_test, preds)\n",
        "plt.figure(figsize=(12,8))\n",
        "sns.heatmap(cf_matrix, annot=True)\n",
        "plt.title(\"Confusion Matrix for Random Forest Classifier on Test Data\")\n",
        "plt.show()"
      ]
    },
    {
      "cell_type": "code",
      "execution_count": null,
      "metadata": {
        "execution": {
          "iopub.execute_input": "2023-06-03T18:29:35.797519Z",
          "iopub.status.busy": "2023-06-03T18:29:35.797102Z",
          "iopub.status.idle": "2023-06-03T18:29:40.729276Z",
          "shell.execute_reply": "2023-06-03T18:29:40.727640Z",
          "shell.execute_reply.started": "2023-06-03T18:29:35.797485Z"
        },
        "id": "fe_X4-U7ZZc_",
        "trusted": true
      },
      "outputs": [],
      "source": [
        "from statistics import mode\n",
        "# Training the models on whole data\n",
        "final_svm_model = SVC()\n",
        "final_nb_model = GaussianNB()\n",
        "final_rf_model = RandomForestClassifier(random_state=18)\n",
        "final_svm_model.fit(X, y)\n",
        "final_nb_model.fit(X, y)\n",
        "final_rf_model.fit(X, y)\n",
        "\n",
        "test_X = test_data.iloc[:, :-1]\n",
        "test_Y = encoder.transform(test_data.iloc[:, -1])\n",
        "\n",
        "# Making prediction by take mode of predictions\n",
        "# made by all the classifiers\n",
        "svm_preds = final_svm_model.predict(test_X)\n",
        "nb_preds = final_nb_model.predict(test_X)\n",
        "rf_preds = final_rf_model.predict(test_X)\n",
        "\n",
        "final_preds = [mode([i, j, k]) for i, j, k in zip(svm_preds, nb_preds, rf_preds)]\n",
        "\n",
        "print(f\"Accuracy on Test dataset by the combined model\\\n",
        ": {accuracy_score(test_Y, final_preds)*100}\")\n",
        "\n",
        "cf_matrix = confusion_matrix(test_Y, final_preds)\n",
        "plt.figure(figsize=(12,8))\n",
        "\n",
        "sns.heatmap(cf_matrix, annot = True)\n",
        "plt.title(\"Confusion Matrix for Combined Model on Test Dataset\")\n",
        "plt.show()\n"
      ]
    },
    {
      "cell_type": "code",
      "execution_count": null,
      "metadata": {
        "execution": {
          "iopub.execute_input": "2023-06-03T18:00:00.237784Z",
          "iopub.status.busy": "2023-06-03T18:00:00.237375Z",
          "iopub.status.idle": "2023-06-03T18:00:00.247687Z",
          "shell.execute_reply": "2023-06-03T18:00:00.245598Z",
          "shell.execute_reply.started": "2023-06-03T18:00:00.237749Z"
        },
        "id": "MdSUqbyoZZdA",
        "trusted": true
      },
      "outputs": [],
      "source": [
        "# Import the necessary libraries\n",
        "import warnings\n",
        "from sklearn.exceptions import DataConversionWarning\n",
        "\n",
        "# Disable the warnings\n",
        "warnings.filterwarnings(\"ignore\", category=DeprecationWarning)\n",
        "warnings.filterwarnings(\"ignore\", category=DataConversionWarning)\n",
        "warnings.filterwarnings(\"ignore\", category=UserWarning)\n",
        "\n",
        "# Rest of the code\n",
        "# ...\n",
        "\n",
        "# Initializing Models\n",
        "models = {\n",
        "    \"SVC\": SVC(),\n",
        "    \"Gaussian NB\": GaussianNB(),\n",
        "    \"Random Forest\": RandomForestClassifier(random_state=18)\n",
        "}"
      ]
    },
    {
      "cell_type": "code",
      "execution_count": null,
      "metadata": {
        "execution": {
          "iopub.execute_input": "2023-06-03T18:23:45.806346Z",
          "iopub.status.busy": "2023-06-03T18:23:45.805868Z",
          "iopub.status.idle": "2023-06-03T18:23:45.837108Z",
          "shell.execute_reply": "2023-06-03T18:23:45.835904Z",
          "shell.execute_reply.started": "2023-06-03T18:23:45.806310Z"
        },
        "id": "bbc0zKCXZZdA",
        "trusted": true
      },
      "outputs": [],
      "source": [
        "symptoms = X.columns.values\n",
        "# Creating a symptom index dictionary to encode the\n",
        "# input symptoms into numerical form\n",
        "symptom_index = {}\n",
        "for index, value in enumerate(symptoms):\n",
        "    symptom = \" \".join([i.capitalize() for i in value.split(\"_\")])\n",
        "    symptom_index[symptom] = index\n",
        "\n",
        "data_dict = {\n",
        "    \"symptom_index\": symptom_index,\n",
        "    \"predictions_classes\": encoder.classes_\n",
        "}\n",
        "\n",
        "\n",
        "def predictDisease(symptoms):\n",
        "    symptoms = symptoms.split(\",\")\n",
        "\n",
        "    input_data = [0] * len(data_dict[\"symptom_index\"])\n",
        "    for symptom in symptoms:\n",
        "        if symptom in data_dict[\"symptom_index\"]:\n",
        "            index = data_dict[\"symptom_index\"][symptom]\n",
        "            input_data[index] = 1\n",
        "\n",
        "    input_data = np.array(input_data).reshape(1, -1)\n",
        "\n",
        "    rf_prediction = data_dict[\"predictions_classes\"][final_rf_model.predict(input_data)[0]]\n",
        "    nb_prediction = data_dict[\"predictions_classes\"][final_nb_model.predict(input_data)[0]]\n",
        "    svm_prediction = data_dict[\"predictions_classes\"][final_svm_model.predict(input_data)[0]]\n",
        "\n",
        "    final_prediction = mode([rf_prediction, nb_prediction, svm_prediction])\n",
        "    '''predictions = {\n",
        "        #\"rf_model_prediction\": rf_prediction,\n",
        "        #\"naive_bayes_prediction\": nb_prediction,\n",
        "        #\"svm_model_prediction\": svm_prediction,\n",
        "        final_prediction\n",
        "    }'''\n",
        "    return final_prediction\n",
        "\n",
        "# Testing the function\n",
        "\n",
        "print(predictDisease(\"Skin Rash, Ulcers, Vomiting,Dizziness,sneezing\"))"
      ]
    },
    {
      "cell_type": "markdown",
      "metadata": {
        "id": "W4dZHnwKZZdA"
      },
      "source": [
        "##"
      ]
    }
  ],
  "metadata": {
    "colab": {
      "include_colab_link": true,
      "provenance": []
    },
    "kernelspec": {
      "display_name": "Python 3",
      "language": "python",
      "name": "python3"
    },
    "language_info": {
      "codemirror_mode": {
        "name": "ipython",
        "version": 3
      },
      "file_extension": ".py",
      "mimetype": "text/x-python",
      "name": "python",
      "nbconvert_exporter": "python",
      "pygments_lexer": "ipython3",
      "version": "3.11.5"
    }
  },
  "nbformat": 4,
  "nbformat_minor": 0
}
