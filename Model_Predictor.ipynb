{
  "metadata": {
    "kernelspec": {
      "language": "python",
      "display_name": "Python 3",
      "name": "python3"
    },
    "language_info": {
      "pygments_lexer": "ipython3",
      "nbconvert_exporter": "python",
      "version": "3.6.4",
      "file_extension": ".py",
      "codemirror_mode": {
        "name": "ipython",
        "version": 3
      },
      "name": "python",
      "mimetype": "text/x-python"
    },
    "colab": {
      "provenance": [],
      "include_colab_link": true
    }
  },
  "nbformat_minor": 0,
  "nbformat": 4,
  "cells": [
    {
      "cell_type": "markdown",
      "metadata": {
        "id": "view-in-github",
        "colab_type": "text"
      },
      "source": [
        "<a href=\"https://colab.research.google.com/github/Abhayg444/Meddy/blob/main/Model_Predictor.ipynb\" target=\"_parent\"><img src=\"https://colab.research.google.com/assets/colab-badge.svg\" alt=\"Open In Colab\"/></a>"
      ]
    },
    {
      "cell_type": "code",
      "source": [
        "import numpy as np\n",
        "import pandas as pd"
      ],
      "metadata": {
        "_uuid": "8f2839f25d086af736a60e9eeb907d3b93b6e0e5",
        "_cell_guid": "b1076dfc-b9ad-4769-8c92-a6c4dae69d19",
        "execution": {
          "iopub.status.busy": "2023-06-03T17:59:30.226131Z",
          "iopub.execute_input": "2023-06-03T17:59:30.227400Z",
          "iopub.status.idle": "2023-06-03T17:59:30.245828Z",
          "shell.execute_reply.started": "2023-06-03T17:59:30.227349Z",
          "shell.execute_reply": "2023-06-03T17:59:30.244157Z"
        },
        "trusted": true,
        "id": "U2HyQ-yhZZcz"
      },
      "execution_count": null,
      "outputs": []
    },
    {
      "cell_type": "code",
      "source": [
        "import matplotlib.pyplot as plt\n",
        "import seaborn as sns\n",
        "from sklearn.preprocessing import LabelEncoder\n",
        "from sklearn.model_selection import train_test_split ,cross_val_score\n",
        "from sklearn.svm import SVC\n",
        "from sklearn.naive_bayes import GaussianNB\n",
        "from sklearn.ensemble import RandomForestClassifier\n",
        "from sklearn.metrics import classification_report, accuracy_score, confusion_matrix\n",
        "\n",
        "%matplotlib inline"
      ],
      "metadata": {
        "execution": {
          "iopub.status.busy": "2023-06-03T17:59:30.248236Z",
          "iopub.execute_input": "2023-06-03T17:59:30.248741Z",
          "iopub.status.idle": "2023-06-03T17:59:31.727778Z",
          "shell.execute_reply.started": "2023-06-03T17:59:30.248705Z",
          "shell.execute_reply": "2023-06-03T17:59:31.726805Z"
        },
        "trusted": true,
        "id": "BxyvevzvZZc1"
      },
      "execution_count": null,
      "outputs": []
    },
    {
      "cell_type": "code",
      "source": [
        "train_data = pd.read_csv(\"/content/Training.csv\").dropna(axis = 1)\n",
        "test_data =pd.read_csv(\"/content/Testing.csv\").dropna(axis = 1)"
      ],
      "metadata": {
        "execution": {
          "iopub.status.busy": "2023-06-03T17:59:31.729642Z",
          "iopub.execute_input": "2023-06-03T17:59:31.730136Z",
          "iopub.status.idle": "2023-06-03T17:59:31.901759Z",
          "shell.execute_reply.started": "2023-06-03T17:59:31.730090Z",
          "shell.execute_reply": "2023-06-03T17:59:31.900345Z"
        },
        "trusted": true,
        "id": "OiinENPWZZc2"
      },
      "execution_count": null,
      "outputs": []
    },
    {
      "cell_type": "code",
      "source": [
        "train_data.head()"
      ],
      "metadata": {
        "execution": {
          "iopub.status.busy": "2023-06-03T17:59:31.905598Z",
          "iopub.execute_input": "2023-06-03T17:59:31.906206Z",
          "iopub.status.idle": "2023-06-03T17:59:31.958851Z",
          "shell.execute_reply.started": "2023-06-03T17:59:31.906143Z",
          "shell.execute_reply": "2023-06-03T17:59:31.957378Z"
        },
        "trusted": true,
        "id": "F-TZEbamZZc3"
      },
      "execution_count": null,
      "outputs": []
    },
    {
      "cell_type": "code",
      "source": [
        "test_data.head()"
      ],
      "metadata": {
        "execution": {
          "iopub.status.busy": "2023-06-03T17:59:31.961013Z",
          "iopub.execute_input": "2023-06-03T17:59:31.961569Z",
          "iopub.status.idle": "2023-06-03T17:59:31.990598Z",
          "shell.execute_reply.started": "2023-06-03T17:59:31.961524Z",
          "shell.execute_reply": "2023-06-03T17:59:31.989145Z"
        },
        "trusted": true,
        "id": "VBxK_o-iZZc3"
      },
      "execution_count": null,
      "outputs": []
    },
    {
      "cell_type": "code",
      "source": [
        "train_data.shape"
      ],
      "metadata": {
        "execution": {
          "iopub.status.busy": "2023-06-03T17:59:31.992990Z",
          "iopub.execute_input": "2023-06-03T17:59:31.993515Z",
          "iopub.status.idle": "2023-06-03T17:59:32.007723Z",
          "shell.execute_reply.started": "2023-06-03T17:59:31.993469Z",
          "shell.execute_reply": "2023-06-03T17:59:32.006131Z"
        },
        "trusted": true,
        "id": "AaZpWQfAZZc3"
      },
      "execution_count": null,
      "outputs": []
    },
    {
      "cell_type": "code",
      "source": [
        "train_data.info()"
      ],
      "metadata": {
        "execution": {
          "iopub.status.busy": "2023-06-03T17:59:32.011635Z",
          "iopub.execute_input": "2023-06-03T17:59:32.012132Z",
          "iopub.status.idle": "2023-06-03T17:59:32.046086Z",
          "shell.execute_reply.started": "2023-06-03T17:59:32.012097Z",
          "shell.execute_reply": "2023-06-03T17:59:32.044802Z"
        },
        "trusted": true,
        "id": "H-DPzXQ-ZZc4"
      },
      "execution_count": null,
      "outputs": []
    },
    {
      "cell_type": "code",
      "source": [
        "train_data.describe()"
      ],
      "metadata": {
        "execution": {
          "iopub.status.busy": "2023-06-03T17:59:32.047894Z",
          "iopub.execute_input": "2023-06-03T17:59:32.048537Z",
          "iopub.status.idle": "2023-06-03T17:59:32.432549Z",
          "shell.execute_reply.started": "2023-06-03T17:59:32.048485Z",
          "shell.execute_reply": "2023-06-03T17:59:32.431171Z"
        },
        "trusted": true,
        "id": "nS4FsEXVZZc4"
      },
      "execution_count": null,
      "outputs": []
    },
    {
      "cell_type": "code",
      "source": [
        "# checking weather the dataset is balanced or not\n",
        "disease_counts = train_data[\"prognosis\"].value_counts()\n",
        "temp_df = pd.DataFrame({\n",
        "    \"Disease\":disease_counts.index,\n",
        "    \"Counts\": disease_counts.values\n",
        "})\n",
        "\n",
        "plt.figure(figsize = (18,8))\n",
        "sns.barplot(x =\"Disease\",y=\"Counts\",data = temp_df)\n",
        "plt.xticks(rotation=90)\n",
        "plt.show()\n"
      ],
      "metadata": {
        "execution": {
          "iopub.status.busy": "2023-06-03T17:59:32.435022Z",
          "iopub.execute_input": "2023-06-03T17:59:32.435606Z",
          "iopub.status.idle": "2023-06-03T17:59:33.385890Z",
          "shell.execute_reply.started": "2023-06-03T17:59:32.435557Z",
          "shell.execute_reply": "2023-06-03T17:59:33.384466Z"
        },
        "trusted": true,
        "id": "Xz7CeUkIZZc4"
      },
      "execution_count": null,
      "outputs": []
    },
    {
      "cell_type": "code",
      "source": [
        "# Encoding the target value into numerical value\n",
        "encoder = LabelEncoder()\n",
        "train_data[\"prognosis\"] =encoder.fit_transform(train_data[\"prognosis\"])"
      ],
      "metadata": {
        "execution": {
          "iopub.status.busy": "2023-06-03T17:59:33.391870Z",
          "iopub.execute_input": "2023-06-03T17:59:33.392252Z",
          "iopub.status.idle": "2023-06-03T17:59:33.402559Z",
          "shell.execute_reply.started": "2023-06-03T17:59:33.392221Z",
          "shell.execute_reply": "2023-06-03T17:59:33.399455Z"
        },
        "trusted": true,
        "id": "utO3J0GoZZc5"
      },
      "execution_count": null,
      "outputs": []
    },
    {
      "cell_type": "code",
      "source": [
        "X = train_data.iloc[:,:-1]\n",
        "y = train_data.iloc[:,-1]\n",
        "X_train, X_test, y_train, y_test = train_test_split(X,y,test_size=0.2,random_state =24)"
      ],
      "metadata": {
        "execution": {
          "iopub.status.busy": "2023-06-03T17:59:33.404447Z",
          "iopub.execute_input": "2023-06-03T17:59:33.405186Z",
          "iopub.status.idle": "2023-06-03T17:59:33.442305Z",
          "shell.execute_reply.started": "2023-06-03T17:59:33.405144Z",
          "shell.execute_reply": "2023-06-03T17:59:33.441004Z"
        },
        "trusted": true,
        "id": "1wfi5W0PZZc7"
      },
      "execution_count": null,
      "outputs": []
    },
    {
      "cell_type": "code",
      "source": [
        "X_train.shape,y_train.shape"
      ],
      "metadata": {
        "execution": {
          "iopub.status.busy": "2023-06-03T17:59:33.443890Z",
          "iopub.execute_input": "2023-06-03T17:59:33.444293Z",
          "iopub.status.idle": "2023-06-03T17:59:33.453944Z",
          "shell.execute_reply.started": "2023-06-03T17:59:33.444263Z",
          "shell.execute_reply": "2023-06-03T17:59:33.453112Z"
        },
        "trusted": true,
        "id": "9c4wApMeZZc8"
      },
      "execution_count": null,
      "outputs": []
    },
    {
      "cell_type": "code",
      "source": [
        "X_test.shape,y_test.shape"
      ],
      "metadata": {
        "execution": {
          "iopub.status.busy": "2023-06-03T17:59:33.455746Z",
          "iopub.execute_input": "2023-06-03T17:59:33.456201Z",
          "iopub.status.idle": "2023-06-03T17:59:33.469154Z",
          "shell.execute_reply.started": "2023-06-03T17:59:33.456163Z",
          "shell.execute_reply": "2023-06-03T17:59:33.468140Z"
        },
        "trusted": true,
        "id": "_YoEV52AZZc8"
      },
      "execution_count": null,
      "outputs": []
    },
    {
      "cell_type": "code",
      "source": [
        "#Defining scoring metric for k-fold cross validation\n",
        "def cv_scoring(estimator,X,y):\n",
        "    return accuracy_score(y,estimator.predict(X))\n",
        "\n",
        "\n",
        "models = {\n",
        "    \"SVC\": SVC(),\n",
        "    \"Gaussian NB\": GaussianNB(),\n",
        "    \"Random Forest\": RandomForestClassifier(random_state=18)\n",
        "}\n",
        "\n",
        "# producing cross validation score for models\n",
        "\n",
        "for model_name in models:\n",
        "    model =models[model_name]\n",
        "    scores = cross_val_score(model,X,y,cv=10,\n",
        "                            n_jobs = -1,\n",
        "                            scoring = cv_scoring)\n",
        "    print(\"==\"*30)\n",
        "    print(model_name)\n",
        "    print(f\"Scores: {scores}\")\n",
        "    print(f\"Mean Score: {np.mean(scores)}\")"
      ],
      "metadata": {
        "execution": {
          "iopub.status.busy": "2023-06-03T17:59:33.470597Z",
          "iopub.execute_input": "2023-06-03T17:59:33.471237Z",
          "iopub.status.idle": "2023-06-03T17:59:40.799547Z",
          "shell.execute_reply.started": "2023-06-03T17:59:33.471205Z",
          "shell.execute_reply": "2023-06-03T17:59:40.798434Z"
        },
        "trusted": true,
        "id": "G2w99lKDZZc9"
      },
      "execution_count": null,
      "outputs": []
    },
    {
      "cell_type": "markdown",
      "source": [
        "# Training and Testing Models\n"
      ],
      "metadata": {
        "id": "c_6NaUEDZZc-"
      }
    },
    {
      "cell_type": "code",
      "source": [
        "# Training and testing SVM Classifier\n",
        "svm_model = SVC()\n",
        "svm_model.fit(X_train,y_train)\n",
        "preds = svm_model.predict(X_test)\n",
        "\n",
        "print(f\"Accuracy on train data by SVM Classifier\\\n",
        ": {accuracy_score(y_train, svm_model.predict(X_train))*100}\")\n",
        "\n",
        "print(f\"Accuracy on test data by SVM Classifier\\\n",
        ": {accuracy_score(y_test, preds)*100}\")\n",
        "cf_matrix = confusion_matrix(y_test, preds)\n",
        "plt.figure(figsize=(12,8))\n",
        "sns.heatmap(cf_matrix, annot=True)\n",
        "plt.title(\"Confusion Matrix for SVM Classifier on Test Data\")\n",
        "plt.show()\n"
      ],
      "metadata": {
        "execution": {
          "iopub.status.busy": "2023-06-03T17:59:40.801610Z",
          "iopub.execute_input": "2023-06-03T17:59:40.801978Z",
          "iopub.status.idle": "2023-06-03T17:59:45.656145Z",
          "shell.execute_reply.started": "2023-06-03T17:59:40.801942Z",
          "shell.execute_reply": "2023-06-03T17:59:45.654633Z"
        },
        "trusted": true,
        "id": "L-aH81r8ZZc-"
      },
      "execution_count": null,
      "outputs": []
    },
    {
      "cell_type": "code",
      "source": [
        "\n",
        "# Training and testing Naive Bayes Classifier\n",
        "nb_model = GaussianNB()\n",
        "nb_model.fit(X_train, y_train)\n",
        "preds = nb_model.predict(X_test)\n",
        "print(f\"Accuracy on train data by Naive Bayes Classifier\\\n",
        ": {accuracy_score(y_train, nb_model.predict(X_train))*100}\")\n",
        "\n",
        "print(f\"Accuracy on test data by Naive Bayes Classifier\\\n",
        ": {accuracy_score(y_test, preds)*100}\")\n",
        "cf_matrix = confusion_matrix(y_test, preds)\n",
        "plt.figure(figsize=(12,8))\n",
        "sns.heatmap(cf_matrix, annot=True)\n",
        "plt.title(\"Confusion Matrix for Naive Bayes Classifier on Test Data\")\n",
        "plt.show()\n"
      ],
      "metadata": {
        "execution": {
          "iopub.status.busy": "2023-06-03T17:59:45.657387Z",
          "iopub.execute_input": "2023-06-03T17:59:45.657708Z",
          "iopub.status.idle": "2023-06-03T17:59:50.038119Z",
          "shell.execute_reply.started": "2023-06-03T17:59:45.657679Z",
          "shell.execute_reply": "2023-06-03T17:59:50.036500Z"
        },
        "trusted": true,
        "id": "XMQKwpSQZZc-"
      },
      "execution_count": null,
      "outputs": []
    },
    {
      "cell_type": "code",
      "source": [
        "# Training and testing Random Forest Classifier\n",
        "rf_model = RandomForestClassifier(random_state=18)\n",
        "rf_model.fit(X_train, y_train)\n",
        "preds = rf_model.predict(X_test)\n",
        "print(f\"Accuracy on train data by Random Forest Classifier\\\n",
        ": {accuracy_score(y_train, rf_model.predict(X_train))*100}\")\n",
        "\n",
        "print(f\"Accuracy on test data by Random Forest Classifier\\\n",
        ": {accuracy_score(y_test, preds)*100}\")\n",
        "\n",
        "cf_matrix = confusion_matrix(y_test, preds)\n",
        "plt.figure(figsize=(12,8))\n",
        "sns.heatmap(cf_matrix, annot=True)\n",
        "plt.title(\"Confusion Matrix for Random Forest Classifier on Test Data\")\n",
        "plt.show()"
      ],
      "metadata": {
        "execution": {
          "iopub.status.busy": "2023-06-03T17:59:50.040121Z",
          "iopub.execute_input": "2023-06-03T17:59:50.040586Z",
          "iopub.status.idle": "2023-06-03T17:59:54.985037Z",
          "shell.execute_reply.started": "2023-06-03T17:59:50.040547Z",
          "shell.execute_reply": "2023-06-03T17:59:54.983841Z"
        },
        "trusted": true,
        "id": "Bu7jWNdnZZc_"
      },
      "execution_count": null,
      "outputs": []
    },
    {
      "cell_type": "code",
      "source": [
        "from statistics import mode\n",
        "# Training the models on whole data\n",
        "final_svm_model = SVC()\n",
        "final_nb_model = GaussianNB()\n",
        "final_rf_model = RandomForestClassifier(random_state=18)\n",
        "final_svm_model.fit(X, y)\n",
        "final_nb_model.fit(X, y)\n",
        "final_rf_model.fit(X, y)\n",
        "\n",
        "test_X = test_data.iloc[:, :-1]\n",
        "test_Y = encoder.transform(test_data.iloc[:, -1])\n",
        "\n",
        "# Making prediction by take mode of predictions\n",
        "# made by all the classifiers\n",
        "svm_preds = final_svm_model.predict(test_X)\n",
        "nb_preds = final_nb_model.predict(test_X)\n",
        "rf_preds = final_rf_model.predict(test_X)\n",
        "\n",
        "final_preds = [mode([i, j, k]) for i, j, k in zip(svm_preds, nb_preds, rf_preds)]\n",
        "\n",
        "print(f\"Accuracy on Test dataset by the combined model\\\n",
        ": {accuracy_score(test_Y, final_preds)*100}\")\n",
        "\n",
        "cf_matrix = confusion_matrix(test_Y, final_preds)\n",
        "plt.figure(figsize=(12,8))\n",
        "\n",
        "sns.heatmap(cf_matrix, annot = True)\n",
        "plt.title(\"Confusion Matrix for Combined Model on Test Dataset\")\n",
        "plt.show()\n"
      ],
      "metadata": {
        "execution": {
          "iopub.status.busy": "2023-06-03T18:29:35.797102Z",
          "iopub.execute_input": "2023-06-03T18:29:35.797519Z",
          "iopub.status.idle": "2023-06-03T18:29:40.729276Z",
          "shell.execute_reply.started": "2023-06-03T18:29:35.797485Z",
          "shell.execute_reply": "2023-06-03T18:29:40.727640Z"
        },
        "trusted": true,
        "id": "fe_X4-U7ZZc_"
      },
      "execution_count": null,
      "outputs": []
    },
    {
      "cell_type": "code",
      "source": [
        "# Import the necessary libraries\n",
        "import warnings\n",
        "from sklearn.exceptions import DataConversionWarning\n",
        "\n",
        "# Disable the warnings\n",
        "warnings.filterwarnings(\"ignore\", category=DeprecationWarning)\n",
        "warnings.filterwarnings(\"ignore\", category=DataConversionWarning)\n",
        "warnings.filterwarnings(\"ignore\", category=UserWarning)\n",
        "\n",
        "# Rest of the code\n",
        "# ...\n",
        "\n",
        "# Initializing Models\n",
        "models = {\n",
        "    \"SVC\": SVC(),\n",
        "    \"Gaussian NB\": GaussianNB(),\n",
        "    \"Random Forest\": RandomForestClassifier(random_state=18)\n",
        "}"
      ],
      "metadata": {
        "execution": {
          "iopub.status.busy": "2023-06-03T18:00:00.237375Z",
          "iopub.execute_input": "2023-06-03T18:00:00.237784Z",
          "iopub.status.idle": "2023-06-03T18:00:00.247687Z",
          "shell.execute_reply.started": "2023-06-03T18:00:00.237749Z",
          "shell.execute_reply": "2023-06-03T18:00:00.245598Z"
        },
        "trusted": true,
        "id": "MdSUqbyoZZdA"
      },
      "execution_count": null,
      "outputs": []
    },
    {
      "cell_type": "code",
      "source": [
        "symptoms = X.columns.values\n",
        "# Creating a symptom index dictionary to encode the\n",
        "# input symptoms into numerical form\n",
        "symptom_index = {}\n",
        "for index, value in enumerate(symptoms):\n",
        "    symptom = \" \".join([i.capitalize() for i in value.split(\"_\")])\n",
        "    symptom_index[symptom] = index\n",
        "\n",
        "data_dict = {\n",
        "    \"symptom_index\": symptom_index,\n",
        "    \"predictions_classes\": encoder.classes_\n",
        "}\n",
        "\n",
        "\n",
        "def predictDisease(symptoms):\n",
        "    symptoms = symptoms.split(\",\")\n",
        "\n",
        "    input_data = [0] * len(data_dict[\"symptom_index\"])\n",
        "    for symptom in symptoms:\n",
        "        if symptom in data_dict[\"symptom_index\"]:\n",
        "            index = data_dict[\"symptom_index\"][symptom]\n",
        "            input_data[index] = 1\n",
        "\n",
        "    input_data = np.array(input_data).reshape(1, -1)\n",
        "\n",
        "    rf_prediction = data_dict[\"predictions_classes\"][final_rf_model.predict(input_data)[0]]\n",
        "    nb_prediction = data_dict[\"predictions_classes\"][final_nb_model.predict(input_data)[0]]\n",
        "    svm_prediction = data_dict[\"predictions_classes\"][final_svm_model.predict(input_data)[0]]\n",
        "\n",
        "    final_prediction = mode([rf_prediction, nb_prediction, svm_prediction])\n",
        "    '''predictions = {\n",
        "        #\"rf_model_prediction\": rf_prediction,\n",
        "        #\"naive_bayes_prediction\": nb_prediction,\n",
        "        #\"svm_model_prediction\": svm_prediction,\n",
        "        final_prediction\n",
        "    }'''\n",
        "    return final_prediction\n",
        "\n",
        "# Testing the function\n",
        "\n",
        "print(predictDisease(\"Skin Rash, Ulcers, Vomiting,Dizziness,sneezing\"))"
      ],
      "metadata": {
        "execution": {
          "iopub.status.busy": "2023-06-03T18:23:45.805868Z",
          "iopub.execute_input": "2023-06-03T18:23:45.806346Z",
          "iopub.status.idle": "2023-06-03T18:23:45.837108Z",
          "shell.execute_reply.started": "2023-06-03T18:23:45.806310Z",
          "shell.execute_reply": "2023-06-03T18:23:45.835904Z"
        },
        "trusted": true,
        "id": "bbc0zKCXZZdA"
      },
      "execution_count": null,
      "outputs": []
    },
    {
      "cell_type": "markdown",
      "source": [
        "##"
      ],
      "metadata": {
        "id": "W4dZHnwKZZdA"
      }
    }
  ]
}