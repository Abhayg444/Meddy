{
  "cells": [
    {
      "cell_type": "code",
      "execution_count": null,
      "metadata": {
        "_cell_guid": "b1076dfc-b9ad-4769-8c92-a6c4dae69d19",
        "_uuid": "8f2839f25d086af736a60e9eeb907d3b93b6e0e5",
        "execution": {
          "iopub.execute_input": "2023-06-03T17:59:30.227400Z",
          "iopub.status.busy": "2023-06-03T17:59:30.226131Z",
          "iopub.status.idle": "2023-06-03T17:59:30.245828Z",
          "shell.execute_reply": "2023-06-03T17:59:30.244157Z",
          "shell.execute_reply.started": "2023-06-03T17:59:30.227349Z"
        },
        "id": "U2HyQ-yhZZcz",
        "trusted": true
      },
      "outputs": [],
      "source": [
        "import numpy as np\n",
        "import pandas as pd"
      ]
    },
    {
      "cell_type": "code",
      "execution_count": null,
      "metadata": {
        "execution": {
          "iopub.execute_input": "2023-06-03T17:59:30.248741Z",
          "iopub.status.busy": "2023-06-03T17:59:30.248236Z",
          "iopub.status.idle": "2023-06-03T17:59:31.727778Z",
          "shell.execute_reply": "2023-06-03T17:59:31.726805Z",
          "shell.execute_reply.started": "2023-06-03T17:59:30.248705Z"
        },
        "id": "BxyvevzvZZc1",
        "trusted": true
      },
      "outputs": [],
      "source": [
        "import matplotlib.pyplot as plt\n",
        "import seaborn as sns\n",
        "from sklearn.preprocessing import LabelEncoder\n",
        "from sklearn.model_selection import train_test_split ,cross_val_score\n",
        "from sklearn.svm import SVC\n",
        "from sklearn.naive_bayes import GaussianNB\n",
        "from sklearn.ensemble import RandomForestClassifier\n",
        "from sklearn.metrics import classification_report, accuracy_score, confusion_matrix\n",
        "\n",
        "%matplotlib inline"
      ]
    },
    {
      "cell_type": "code",
      "execution_count": null,
      "metadata": {
        "execution": {
          "iopub.execute_input": "2023-06-03T17:59:31.730136Z",
          "iopub.status.busy": "2023-06-03T17:59:31.729642Z",
          "iopub.status.idle": "2023-06-03T17:59:31.901759Z",
          "shell.execute_reply": "2023-06-03T17:59:31.900345Z",
          "shell.execute_reply.started": "2023-06-03T17:59:31.730090Z"
        },
        "id": "OiinENPWZZc2",
        "trusted": true
      },
      "outputs": [],
      "source": [
        "train_data = pd.read_csv(\"Training.csv\").dropna(axis = 1)\n",
        "test_data =pd.read_csv(\"Testing.csv\").dropna(axis = 1)"
      ]
    },
    {
      "cell_type": "code",
      "execution_count": null,
      "metadata": {
        "execution": {
          "iopub.execute_input": "2023-06-03T17:59:31.906206Z",
          "iopub.status.busy": "2023-06-03T17:59:31.905598Z",
          "iopub.status.idle": "2023-06-03T17:59:31.958851Z",
          "shell.execute_reply": "2023-06-03T17:59:31.957378Z",
          "shell.execute_reply.started": "2023-06-03T17:59:31.906143Z"
        },
        "id": "F-TZEbamZZc3",
        "outputId": "b34e1d9b-a511-407e-f02c-c7e62750c52e",
        "trusted": true
      },
      "outputs": [],
      "source": [
        "train_data.head()"
      ]
    },
    {
      "cell_type": "code",
      "execution_count": null,
      "metadata": {
        "execution": {
          "iopub.execute_input": "2023-06-03T17:59:31.961569Z",
          "iopub.status.busy": "2023-06-03T17:59:31.961013Z",
          "iopub.status.idle": "2023-06-03T17:59:31.990598Z",
          "shell.execute_reply": "2023-06-03T17:59:31.989145Z",
          "shell.execute_reply.started": "2023-06-03T17:59:31.961524Z"
        },
        "id": "VBxK_o-iZZc3",
        "outputId": "2242d2d9-9e82-400b-8582-5edf1390496f",
        "trusted": true
      },
      "outputs": [],
      "source": [
        "test_data.head()"
      ]
    },
    {
      "cell_type": "code",
      "execution_count": null,
      "metadata": {
        "execution": {
          "iopub.execute_input": "2023-06-03T17:59:31.993515Z",
          "iopub.status.busy": "2023-06-03T17:59:31.992990Z",
          "iopub.status.idle": "2023-06-03T17:59:32.007723Z",
          "shell.execute_reply": "2023-06-03T17:59:32.006131Z",
          "shell.execute_reply.started": "2023-06-03T17:59:31.993469Z"
        },
        "id": "AaZpWQfAZZc3",
        "outputId": "c055e2c0-4355-4710-a636-08a84c542d4c",
        "trusted": true
      },
      "outputs": [],
      "source": [
        "train_data.shape"
      ]
    },
    {
      "cell_type": "code",
      "execution_count": null,
      "metadata": {
        "execution": {
          "iopub.execute_input": "2023-06-03T17:59:32.012132Z",
          "iopub.status.busy": "2023-06-03T17:59:32.011635Z",
          "iopub.status.idle": "2023-06-03T17:59:32.046086Z",
          "shell.execute_reply": "2023-06-03T17:59:32.044802Z",
          "shell.execute_reply.started": "2023-06-03T17:59:32.012097Z"
        },
        "id": "H-DPzXQ-ZZc4",
        "outputId": "2d035309-b00e-42ab-febd-e44e40f18ec1",
        "trusted": true
      },
      "outputs": [],
      "source": [
        "train_data.info()"
      ]
    },
    {
      "cell_type": "code",
      "execution_count": null,
      "metadata": {
        "execution": {
          "iopub.execute_input": "2023-06-03T17:59:32.048537Z",
          "iopub.status.busy": "2023-06-03T17:59:32.047894Z",
          "iopub.status.idle": "2023-06-03T17:59:32.432549Z",
          "shell.execute_reply": "2023-06-03T17:59:32.431171Z",
          "shell.execute_reply.started": "2023-06-03T17:59:32.048485Z"
        },
        "id": "nS4FsEXVZZc4",
        "outputId": "14146ba7-3a3e-4fa5-8511-d056d69fab6d",
        "trusted": true
      },
      "outputs": [],
      "source": [
        "train_data.describe()"
      ]
    },
    {
      "cell_type": "code",
      "execution_count": null,
      "metadata": {
        "execution": {
          "iopub.execute_input": "2023-06-03T17:59:32.435606Z",
          "iopub.status.busy": "2023-06-03T17:59:32.435022Z",
          "iopub.status.idle": "2023-06-03T17:59:33.385890Z",
          "shell.execute_reply": "2023-06-03T17:59:33.384466Z",
          "shell.execute_reply.started": "2023-06-03T17:59:32.435557Z"
        },
        "id": "Xz7CeUkIZZc4",
        "outputId": "0e45c6f4-5b00-4e43-dac2-b62b8abcb3a8",
        "trusted": true
      },
      "outputs": [],
      "source": [
        "# checking weather the dataset is balanced or not\n",
        "disease_counts = train_data[\"prognosis\"].value_counts()\n",
        "temp_df = pd.DataFrame({\n",
        "    \"Disease\":disease_counts.index,\n",
        "    \"Counts\": disease_counts.values\n",
        "})\n",
        "\n",
        "plt.figure(figsize = (18,8))\n",
        "sns.barplot(x =\"Disease\",y=\"Counts\",data = temp_df)\n",
        "plt.xticks(rotation=90)\n",
        "plt.show()\n"
      ]
    },
    {
      "cell_type": "code",
      "execution_count": null,
      "metadata": {
        "execution": {
          "iopub.execute_input": "2023-06-03T17:59:33.392252Z",
          "iopub.status.busy": "2023-06-03T17:59:33.391870Z",
          "iopub.status.idle": "2023-06-03T17:59:33.402559Z",
          "shell.execute_reply": "2023-06-03T17:59:33.399455Z",
          "shell.execute_reply.started": "2023-06-03T17:59:33.392221Z"
        },
        "id": "utO3J0GoZZc5",
        "trusted": true
      },
      "outputs": [],
      "source": [
        "# Encoding the target value into numerical value\n",
        "encoder = LabelEncoder()\n",
        "train_data[\"prognosis\"] =encoder.fit_transform(train_data[\"prognosis\"])"
      ]
    },
    {
      "cell_type": "code",
      "execution_count": null,
      "metadata": {
        "execution": {
          "iopub.execute_input": "2023-06-03T17:59:33.405186Z",
          "iopub.status.busy": "2023-06-03T17:59:33.404447Z",
          "iopub.status.idle": "2023-06-03T17:59:33.442305Z",
          "shell.execute_reply": "2023-06-03T17:59:33.441004Z",
          "shell.execute_reply.started": "2023-06-03T17:59:33.405144Z"
        },
        "id": "1wfi5W0PZZc7",
        "trusted": true
      },
      "outputs": [],
      "source": [
        "X = train_data.iloc[:,:-1]\n",
        "y = train_data.iloc[:,-1]\n",
        "X_train, X_test, y_train, y_test = train_test_split(X,y,test_size=0.2,random_state =24)"
      ]
    },
    {
      "cell_type": "code",
      "execution_count": null,
      "metadata": {
        "execution": {
          "iopub.execute_input": "2023-06-03T17:59:33.444293Z",
          "iopub.status.busy": "2023-06-03T17:59:33.443890Z",
          "iopub.status.idle": "2023-06-03T17:59:33.453944Z",
          "shell.execute_reply": "2023-06-03T17:59:33.453112Z",
          "shell.execute_reply.started": "2023-06-03T17:59:33.444263Z"
        },
        "id": "9c4wApMeZZc8",
        "outputId": "bad8a9e3-7daa-4784-f6ae-cecee8af45aa",
        "trusted": true
      },
      "outputs": [],
      "source": [
        "X_train.shape,y_train.shape"
      ]
    },
    {
      "cell_type": "code",
      "execution_count": null,
      "metadata": {
        "execution": {
          "iopub.execute_input": "2023-06-03T17:59:33.456201Z",
          "iopub.status.busy": "2023-06-03T17:59:33.455746Z",
          "iopub.status.idle": "2023-06-03T17:59:33.469154Z",
          "shell.execute_reply": "2023-06-03T17:59:33.468140Z",
          "shell.execute_reply.started": "2023-06-03T17:59:33.456163Z"
        },
        "id": "_YoEV52AZZc8",
        "outputId": "9e68f41e-b96f-46bb-827d-cc67618e1971",
        "trusted": true
      },
      "outputs": [],
      "source": [
        "X_test.shape,y_test.shape"
      ]
    },
    {
      "cell_type": "code",
      "execution_count": null,
      "metadata": {
        "execution": {
          "iopub.execute_input": "2023-06-03T17:59:33.471237Z",
          "iopub.status.busy": "2023-06-03T17:59:33.470597Z",
          "iopub.status.idle": "2023-06-03T17:59:40.799547Z",
          "shell.execute_reply": "2023-06-03T17:59:40.798434Z",
          "shell.execute_reply.started": "2023-06-03T17:59:33.471205Z"
        },
        "id": "G2w99lKDZZc9",
        "outputId": "103d2eb0-f13a-4478-ebc6-b005b98fabdb",
        "trusted": true
      },
      "outputs": [],
      "source": [
        "#Defining scoring metric for k-fold cross validation\n",
        "def cv_scoring(estimator,X,y):\n",
        "    return accuracy_score(y,estimator.predict(X))\n",
        "\n",
        "\n",
        "models = {\n",
        "    \"SVC\": SVC(),\n",
        "    \"Gaussian NB\": GaussianNB(),\n",
        "    \"Random Forest\": RandomForestClassifier(random_state=18)\n",
        "}\n",
        "\n",
        "# producing cross validation score for models\n",
        "\n",
        "for model_name in models:\n",
        "    model =models[model_name]\n",
        "    scores = cross_val_score(model,X,y,cv=10,\n",
        "                            n_jobs = -1,\n",
        "                            scoring = cv_scoring)\n",
        "    print(\"==\"*30)\n",
        "    print(model_name)\n",
        "    print(f\"Scores: {scores}\")\n",
        "    print(f\"Mean Score: {np.mean(scores)}\")"
      ]
    },
    {
      "cell_type": "markdown",
      "metadata": {
        "id": "c_6NaUEDZZc-"
      },
      "source": [
        "# Training and Testing Models\n"
      ]
    },
    {
      "cell_type": "code",
      "execution_count": null,
      "metadata": {
        "execution": {
          "iopub.execute_input": "2023-06-03T17:59:40.801978Z",
          "iopub.status.busy": "2023-06-03T17:59:40.801610Z",
          "iopub.status.idle": "2023-06-03T17:59:45.656145Z",
          "shell.execute_reply": "2023-06-03T17:59:45.654633Z",
          "shell.execute_reply.started": "2023-06-03T17:59:40.801942Z"
        },
        "id": "L-aH81r8ZZc-",
        "outputId": "4fc94402-ffa0-4174-937b-a2571acb9145",
        "trusted": true
      },
      "outputs": [],
      "source": [
        "# Training and testing SVM Classifier\n",
        "svm_model = SVC()\n",
        "svm_model.fit(X_train,y_train)\n",
        "preds = svm_model.predict(X_test)\n",
        "\n",
        "print(f\"Accuracy on train data by SVM Classifier\\\n",
        ": {accuracy_score(y_train, svm_model.predict(X_train))*100}\")\n",
        "\n",
        "print(f\"Accuracy on test data by SVM Classifier\\\n",
        ": {accuracy_score(y_test, preds)*100}\")\n",
        "cf_matrix = confusion_matrix(y_test, preds)\n",
        "plt.figure(figsize=(12,8))\n",
        "sns.heatmap(cf_matrix, annot=True)\n",
        "plt.title(\"Confusion Matrix for SVM Classifier on Test Data\")\n",
        "plt.show()\n"
      ]
    },
    {
      "cell_type": "code",
      "execution_count": null,
      "metadata": {
        "execution": {
          "iopub.execute_input": "2023-06-03T17:59:45.657708Z",
          "iopub.status.busy": "2023-06-03T17:59:45.657387Z",
          "iopub.status.idle": "2023-06-03T17:59:50.038119Z",
          "shell.execute_reply": "2023-06-03T17:59:50.036500Z",
          "shell.execute_reply.started": "2023-06-03T17:59:45.657679Z"
        },
        "id": "XMQKwpSQZZc-",
        "outputId": "11f709d6-5f27-4b07-9905-866a9fe7b231",
        "trusted": true
      },
      "outputs": [],
      "source": [
        "\n",
        "# Training and testing Naive Bayes Classifier\n",
        "nb_model = GaussianNB()\n",
        "nb_model.fit(X_train, y_train)\n",
        "preds = nb_model.predict(X_test)\n",
        "print(f\"Accuracy on train data by Naive Bayes Classifier\\\n",
        ": {accuracy_score(y_train, nb_model.predict(X_train))*100}\")\n",
        "\n",
        "print(f\"Accuracy on test data by Naive Bayes Classifier\\\n",
        ": {accuracy_score(y_test, preds)*100}\")\n",
        "cf_matrix = confusion_matrix(y_test, preds)\n",
        "plt.figure(figsize=(12,8))\n",
        "sns.heatmap(cf_matrix, annot=True)\n",
        "plt.title(\"Confusion Matrix for Naive Bayes Classifier on Test Data\")\n",
        "plt.show()\n"
      ]
    },
    {
      "cell_type": "code",
      "execution_count": null,
      "metadata": {
        "execution": {
          "iopub.execute_input": "2023-06-03T17:59:50.040586Z",
          "iopub.status.busy": "2023-06-03T17:59:50.040121Z",
          "iopub.status.idle": "2023-06-03T17:59:54.985037Z",
          "shell.execute_reply": "2023-06-03T17:59:54.983841Z",
          "shell.execute_reply.started": "2023-06-03T17:59:50.040547Z"
        },
        "id": "Bu7jWNdnZZc_",
        "outputId": "522dd1be-d4c6-4fb6-c836-e7df8d12c5ad",
        "trusted": true
      },
      "outputs": [],
      "source": [
        "# Training and testing Random Forest Classifier\n",
        "rf_model = RandomForestClassifier(random_state=18)\n",
        "rf_model.fit(X_train, y_train)\n",
        "preds = rf_model.predict(X_test)\n",
        "print(f\"Accuracy on train data by Random Forest Classifier\\\n",
        ": {accuracy_score(y_train, rf_model.predict(X_train))*100}\")\n",
        "\n",
        "print(f\"Accuracy on test data by Random Forest Classifier\\\n",
        ": {accuracy_score(y_test, preds)*100}\")\n",
        "\n",
        "cf_matrix = confusion_matrix(y_test, preds)\n",
        "plt.figure(figsize=(12,8))\n",
        "sns.heatmap(cf_matrix, annot=True)\n",
        "plt.title(\"Confusion Matrix for Random Forest Classifier on Test Data\")\n",
        "plt.show()"
      ]
    },
    {
      "cell_type": "code",
      "execution_count": null,
      "metadata": {
        "execution": {
          "iopub.execute_input": "2023-06-03T18:29:35.797519Z",
          "iopub.status.busy": "2023-06-03T18:29:35.797102Z",
          "iopub.status.idle": "2023-06-03T18:29:40.729276Z",
          "shell.execute_reply": "2023-06-03T18:29:40.727640Z",
          "shell.execute_reply.started": "2023-06-03T18:29:35.797485Z"
        },
        "id": "fe_X4-U7ZZc_",
        "outputId": "2ee597dd-972b-423c-97b0-04c3528488b2",
        "trusted": true
      },
      "outputs": [],
      "source": [
        "from statistics import mode\n",
        "# Training the models on whole data\n",
        "final_svm_model = SVC()\n",
        "final_nb_model = GaussianNB()\n",
        "final_rf_model = RandomForestClassifier(random_state=18)\n",
        "final_svm_model.fit(X, y)\n",
        "final_nb_model.fit(X, y)\n",
        "final_rf_model.fit(X, y)\n",
        "\n",
        "test_X = test_data.iloc[:, :-1]\n",
        "test_Y = encoder.transform(test_data.iloc[:, -1])\n",
        "\n",
        "# Making prediction by take mode of predictions\n",
        "# made by all the classifiers\n",
        "svm_preds = final_svm_model.predict(test_X)\n",
        "nb_preds = final_nb_model.predict(test_X)\n",
        "rf_preds = final_rf_model.predict(test_X)\n",
        "\n",
        "final_preds = [mode([i, j, k]) for i, j, k in zip(svm_preds, nb_preds, rf_preds)]\n",
        "\n",
        "print(f\"Accuracy on Test dataset by the combined model\\\n",
        ": {accuracy_score(test_Y, final_preds)*100}\")\n",
        "\n",
        "cf_matrix = confusion_matrix(test_Y, final_preds)\n",
        "plt.figure(figsize=(12,8))\n",
        "\n",
        "sns.heatmap(cf_matrix, annot = True)\n",
        "plt.title(\"Confusion Matrix for Combined Model on Test Dataset\")\n",
        "plt.show()\n"
      ]
    },
    {
      "cell_type": "code",
      "execution_count": null,
      "metadata": {
        "execution": {
          "iopub.execute_input": "2023-06-03T18:00:00.237784Z",
          "iopub.status.busy": "2023-06-03T18:00:00.237375Z",
          "iopub.status.idle": "2023-06-03T18:00:00.247687Z",
          "shell.execute_reply": "2023-06-03T18:00:00.245598Z",
          "shell.execute_reply.started": "2023-06-03T18:00:00.237749Z"
        },
        "id": "MdSUqbyoZZdA",
        "trusted": true
      },
      "outputs": [],
      "source": [
        "# Import the necessary libraries\n",
        "import warnings\n",
        "from sklearn.exceptions import DataConversionWarning\n",
        "\n",
        "# Disable the warnings\n",
        "warnings.filterwarnings(\"ignore\", category=DeprecationWarning)\n",
        "warnings.filterwarnings(\"ignore\", category=DataConversionWarning)\n",
        "warnings.filterwarnings(\"ignore\", category=UserWarning)\n",
        "\n",
        "# Rest of the code\n",
        "# ...\n",
        "\n",
        "# Initializing Models\n",
        "models = {\n",
        "    \"SVC\": SVC(),\n",
        "    \"Gaussian NB\": GaussianNB(),\n",
        "    \"Random Forest\": RandomForestClassifier(random_state=18)\n",
        "}"
      ]
    },
    {
      "cell_type": "code",
      "execution_count": null,
      "metadata": {
        "id": "zZ-2BMNtN0mt"
      },
      "outputs": [],
      "source": [
        "import json\n",
        "from fuzzywuzzy import fuzz\n",
        "\n",
        "# Load disease information from diseases_info.json\n",
        "with open('disease_info.json', 'r') as file:\n",
        "    disease_data = json.load(file)\n",
        "\n",
        "# Function to retrieve disease information based on user input\n",
        "def get_disease_info(disease_name):\n",
        "    best_match = None\n",
        "    best_score = 0\n",
        "\n",
        "    # Iterate through disease names and find the best match\n",
        "    for known_disease_name in disease_data.keys():\n",
        "        similarity_score = fuzz.ratio(disease_name.lower(), known_disease_name.lower())\n",
        "        if similarity_score > best_score:\n",
        "            best_score = similarity_score\n",
        "            best_match = known_disease_name\n",
        "\n",
        "    # If a reasonably similar disease name is found, return its information\n",
        "    if best_score >= 70:  # You can adjust this threshold as needed\n",
        "        return disease_data[best_match]\n",
        "    else:\n",
        "        return \"Disease not found in the database.\"\n",
        "\n"
      ]
    },
    {
      "cell_type": "markdown",
      "metadata": {},
      "source": [
        "This is to create A data dictionary for the symtpms for prediction"
      ]
    },
    {
      "cell_type": "code",
      "execution_count": 23,
      "metadata": {},
      "outputs": [
        {
          "name": "stdout",
          "output_type": "stream",
          "text": [
            "{'itching': 0, 'skin rash': 1, 'nodal skin eruptions': 2, 'continuous sneezing': 3, 'shivering': 4, 'chills': 5, 'joint pain': 6, 'stomach pain': 7, 'acidity': 8, 'ulcers on tongue': 9, 'muscle wasting': 10, 'vomiting': 11, 'burning micturition': 12, 'spotting  urination': 13, 'fatigue': 14, 'weight gain': 15, 'anxiety': 16, 'cold hands and feets': 17, 'mood swings': 18, 'weight loss': 19, 'restlessness': 20, 'lethargy': 21, 'patches in throat': 22, 'irregular sugar level': 23, 'cough': 24, 'high fever': 25, 'sunken eyes': 26, 'breathlessness': 27, 'sweating': 28, 'dehydration': 29, 'indigestion': 30, 'headache': 31, 'yellowish skin': 32, 'dark urine': 33, 'nausea': 34, 'loss of appetite': 35, 'pain behind the eyes': 36, 'back pain': 37, 'constipation': 38, 'abdominal pain': 39, 'diarrhoea': 40, 'mild fever': 41, 'yellow urine': 42, 'yellowing of eyes': 43, 'acute liver failure': 44, 'fluid overload': 45, 'swelling of stomach': 46, 'swelled lymph nodes': 47, 'malaise': 48, 'blurred and distorted vision': 49, 'phlegm': 50, 'throat irritation': 51, 'redness of eyes': 52, 'sinus pressure': 53, 'runny nose': 54, 'congestion': 55, 'chest pain': 56, 'weakness in limbs': 57, 'fast heart rate': 58, 'pain during bowel movements': 59, 'pain in anal region': 60, 'bloody stool': 61, 'irritation in anus': 62, 'neck pain': 63, 'dizziness': 64, 'cramps': 65, 'bruising': 66, 'obesity': 67, 'swollen legs': 68, 'swollen blood vessels': 69, 'puffy face and eyes': 70, 'enlarged thyroid': 71, 'brittle nails': 72, 'swollen extremeties': 73, 'excessive hunger': 74, 'extra marital contacts': 75, 'drying and tingling lips': 76, 'slurred speech': 77, 'knee pain': 78, 'hip joint pain': 79, 'muscle weakness': 80, 'stiff neck': 81, 'swelling joints': 82, 'movement stiffness': 83, 'spinning movements': 84, 'loss of balance': 85, 'unsteadiness': 86, 'weakness of one body side': 87, 'loss of smell': 88, 'bladder discomfort': 89, 'foul smell of urine': 90, 'continuous feel of urine': 91, 'passage of gases': 92, 'internal itching': 93, 'toxic look (typhos)': 94, 'depression': 95, 'irritability': 96, 'muscle pain': 97, 'altered sensorium': 98, 'red spots over body': 99, 'belly pain': 100, 'abnormal menstruation': 101, 'dischromic  patches': 102, 'watering from eyes': 103, 'increased appetite': 104, 'polyuria': 105, 'family history': 106, 'mucoid sputum': 107, 'rusty sputum': 108, 'lack of concentration': 109, 'visual disturbances': 110, 'receiving blood transfusion': 111, 'receiving unsterile injections': 112, 'coma': 113, 'stomach bleeding': 114, 'distention of abdomen': 115, 'history of alcohol consumption': 116, 'fluid overload.1': 117, 'blood in sputum': 118, 'prominent veins on calf': 119, 'palpitations': 120, 'painful walking': 121, 'pus filled pimples': 122, 'blackheads': 123, 'scurring': 124, 'skin peeling': 125, 'silver like dusting': 126, 'small dents in nails': 127, 'inflammatory nails': 128, 'blister': 129, 'red sore around nose': 130, 'yellow crust ooze': 131}\n"
          ]
        }
      ],
      "source": [
        "symptoms = X.columns.values\n",
        "\n",
        "symptom_index = {}\n",
        "for index, value in enumerate(symptoms):\n",
        "    symptom = \" \".join([i.lower() for i in value.split(\"_\")])\n",
        "    symptom_index[symptom] = index\n",
        "\n",
        "data_dict = {\n",
        "    \"symptom_index\": symptom_index,\n",
        "    \"predictions_classes\": encoder.classes_\n",
        "}\n",
        "print(symptom_index)"
      ]
    },
    {
      "cell_type": "markdown",
      "metadata": {},
      "source": [
        "This Cell Runs the main Function of predicting dieases"
      ]
    },
    {
      "cell_type": "code",
      "execution_count": null,
      "metadata": {
        "execution": {
          "iopub.execute_input": "2023-06-03T18:23:45.806346Z",
          "iopub.status.busy": "2023-06-03T18:23:45.805868Z",
          "iopub.status.idle": "2023-06-03T18:23:45.837108Z",
          "shell.execute_reply": "2023-06-03T18:23:45.835904Z",
          "shell.execute_reply.started": "2023-06-03T18:23:45.806310Z"
        },
        "id": "bbc0zKCXZZdA",
        "outputId": "bf484835-53c5-4772-9e12-d30670e77700",
        "trusted": true
      },
      "outputs": [],
      "source": [
        "import joblib\n",
        "loaded_svm_model = joblib.load('final_svm_model.pkl')\n",
        "loaded_nb_model = joblib.load('final_nb_model.pkl')\n",
        "loaded_rf_model = joblib.load('final_rf_model.pkl')\n",
        "data_dict =joblib.load('data_dict.pkl')\n",
        "\n",
        "def predictDisease(input_symptoms):\n",
        "    input_symptoms = input_symptoms.lower()\n",
        "    symptoms = input_symptoms.split(\",\")\n",
        "\n",
        "    input_data = [0] * len(data_dict[\"symptom_index\"])\n",
        "    for symptom in symptoms:\n",
        "        symptom = symptom.strip() \n",
        "        if symptom in data_dict[\"symptom_index\"]:\n",
        "            index = data_dict[\"symptom_index\"][symptom]\n",
        "            input_data[index] = 1\n",
        "        else:\n",
        "            return \"Symptom '{}' not in the database.\".format(symptom)\n",
        "\n",
        "    if sum(input_data) == 0:\n",
        "        return \"None of the input symptoms are in the database.\"\n",
        "\n",
        "    input_data = np.array(input_data).reshape(1, -1)\n",
        "\n",
        "    rf_prediction = data_dict[\"predictions_classes\"][loaded_rf_model.predict(input_data)[0]]\n",
        "    nb_prediction = data_dict[\"predictions_classes\"][loaded_nb_model.predict(input_data)[0]]\n",
        "    svm_prediction = data_dict[\"predictions_classes\"][loaded_svm_model.predict(input_data)[0]]\n",
        "\n",
        "    final_prediction = mode([rf_prediction, nb_prediction, svm_prediction])\n",
        "\n",
        "    if final_prediction not in data_dict[\"predictions_classes\"]:\n",
        "        return \"Disease '{}' is not in the database.\".format(final_prediction)\n",
        "\n",
        "    pre = \"You may be suffering from \" + final_prediction + \"\\n\"\n",
        "    disease_info = get_disease_info(final_prediction)\n",
        "\n",
        "    if isinstance(disease_info, dict):\n",
        "        for key, value in disease_info.items():\n",
        "            if isinstance(value, list):\n",
        "                pre += key + \":\\n\"\n",
        "                for item in value:\n",
        "                    pre += \"- \" + item + \"\\n\"\n",
        "            else:\n",
        "                pre += key + \": \" + value + \"\\n\"\n",
        "\n",
        "    pre += \"\\n If you are still unsure about the prediction, please contact a medical professional for better advice.\"\n",
        "\n",
        "    return pre\n",
        "# Testing the function\n",
        "print(symptom_index)\n",
        "print(\"\\n\\n\")\n",
        "print(predictDisease(\"Silly\"))"
      ]
    },
    {
      "cell_type": "markdown",
      "metadata": {
        "id": "W4dZHnwKZZdA"
      },
      "source": [
        "##Creating GUI for Application"
      ]
    },
    {
      "cell_type": "code",
      "execution_count": null,
      "metadata": {
        "id": "434mSzfVN0mu",
        "outputId": "ed28a6a2-c5ad-4a8a-841b-0d3adaad452e"
      },
      "outputs": [],
      "source": [
        "from tkinter import *\n",
        "BG_GRAY = \"white\"\n",
        "BG_COLOR = \"white\"\n",
        "TEXT_COLOR = \"black\"\n",
        "bot_name = \"Meddy\"\n",
        "\n",
        "FONT = \"Poppins 14\"\n",
        "FONT_BOLD = \"Helvetica 13 bold\"\n",
        "wel = 'This is Meddy a Symptom based Diease Predictor\\nEnter your Symptoms for Meddy to predict your \\ndieases\\n'\n",
        "\n",
        "class ChatApplication:\n",
        "\n",
        "    def __init__(self):\n",
        "        self.window = Tk()\n",
        "        self._setup_main_window()\n",
        "\n",
        "    def run(self):\n",
        "        self.window.mainloop()\n",
        "\n",
        "    def _setup_main_window(self):\n",
        "        self.window.title(\"Meddy\")\n",
        "        self.window.resizable(width=True, height=True)\n",
        "        self.window.configure(width=470, height=550, bg=BG_COLOR)\n",
        "\n",
        "        # head label\n",
        "        head_label = Label(self.window, bg=BG_COLOR, fg=TEXT_COLOR,\n",
        "                           text=\"Meddy Disease Predictor\", font=FONT_BOLD, pady=10)\n",
        "        head_label.place(relwidth=1)\n",
        "\n",
        "        # tiny divider\n",
        "        line = Label(self.window, width=450, bg=BG_GRAY)\n",
        "        line.place(relwidth=1, rely=0.07, relheight=0.012)\n",
        "\n",
        "        # text widget\n",
        "        self.text_widget = Text(self.window, width=20, height=2, bg=BG_COLOR, fg=TEXT_COLOR,\n",
        "                                font=FONT, padx=5, pady=5)\n",
        "        self.text_widget.place(relheight=0.745, relwidth=0.954, rely=0.08)\n",
        "        self.text_widget.insert(END, wel)\n",
        "\n",
        "        # scroll bar\n",
        "        scrollbar = Scrollbar(self.window)\n",
        "        scrollbar.place(relheight=0.745, relx=0.964, rely=0.08)\n",
        "        self.text_widget.configure(yscrollcommand=scrollbar.set)\n",
        "        scrollbar.configure(command=self.text_widget.yview)\n",
        "\n",
        "        self.text_widget.configure(cursor=\"arrow\", state=DISABLED)\n",
        "\n",
        "        # bottom label\n",
        "        bottom_label = Label(self.window, bg=BG_GRAY, height=80)\n",
        "        bottom_label.place(relwidth=1, rely=0.825)\n",
        "\n",
        "        # message entry box\n",
        "        self.msg_entry = Entry(bottom_label, bg=\"white\", fg=TEXT_COLOR, font=FONT)\n",
        "        self.msg_entry.place(relwidth=0.74, relheight=0.06, rely=0.008, relx=0.011)\n",
        "        self.msg_entry.focus()\n",
        "        self.msg_entry.bind(\"<Return>\", self._on_enter_pressed)\n",
        "\n",
        "        # send button\n",
        "        send_button = Button(bottom_label, text=\"Send\", font=FONT_BOLD, width=20, bg=BG_GRAY,\n",
        "                             command=lambda: self._on_enter_pressed(None))\n",
        "        send_button.place(relx=0.77, rely=0.008, relheight=0.06, relwidth=0.22)\n",
        "\n",
        "    def _on_enter_pressed(self, event):\n",
        "        msg = self.msg_entry.get()\n",
        "        self._insert_message(msg, \"You\")\n",
        "\n",
        "    def _insert_message(self, msg, sender):\n",
        "        if not msg:\n",
        "            return\n",
        "\n",
        "        self.msg_entry.delete(0, END)\n",
        "        msg1 = f\"{sender}: {msg}\\n\\n\"\n",
        "        self.text_widget.configure(state=NORMAL)\n",
        "        self.text_widget.insert(END, msg1)\n",
        "        self.text_widget.configure(state=DISABLED)\n",
        "        print(msg)\n",
        "        msg2 = f\"{bot_name}: {predictDisease(msg)}\\n\\n\"\n",
        "        self.text_widget.configure(state=NORMAL)\n",
        "        self.text_widget.insert(END, msg2)\n",
        "        self.text_widget.configure(state=DISABLED)\n",
        "\n",
        "        self.text_widget.see(END)\n",
        "\n",
        "\n",
        "if __name__ == \"__main__\":\n",
        "    app = ChatApplication()\n",
        "    app.run()"
      ]
    }
  ],
  "metadata": {
    "colab": {
      "provenance": []
    },
    "kernelspec": {
      "display_name": "Python 3",
      "language": "python",
      "name": "python3"
    },
    "language_info": {
      "codemirror_mode": {
        "name": "ipython",
        "version": 3
      },
      "file_extension": ".py",
      "mimetype": "text/x-python",
      "name": "python",
      "nbconvert_exporter": "python",
      "pygments_lexer": "ipython3",
      "version": "3.11.5"
    }
  },
  "nbformat": 4,
  "nbformat_minor": 0
}
